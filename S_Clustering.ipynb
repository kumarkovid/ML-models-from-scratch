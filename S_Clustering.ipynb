{
 "cells": [
  {
   "cell_type": "code",
   "execution_count": 231,
   "metadata": {},
   "outputs": [],
   "source": [
    "import matplotlib.pyplot as plt\n",
    "from matplotlib import style\n",
    "import numpy as np\n",
    "import pandas as pd\n",
    "from sklearn.cluster import KMeans\n",
    "style.use('ggplot')\n",
    "from sklearn import preprocessing, cross_validation"
   ]
  },
  {
   "cell_type": "code",
   "execution_count": 232,
   "metadata": {},
   "outputs": [
    {
     "data": {
      "image/png": "[encoded data removed]",
      "text/plain": [
       "<Figure size 432x288 with 1 Axes>"
      ]
     },
     "metadata": {},
     "output_type": "display_data"
    }
   ],
   "source": [
    "X = np.array([[1, 2],\n",
    "              [1.5, 1.8],\n",
    "              [5, 8],\n",
    "              [8, 8],\n",
    "              [1, 0.6],\n",
    "              [9, 11]])\n",
    "\n",
    "plt.scatter(X[:, 0],X[:, 1], s=100, linewidths = 5, zorder = 10)\n",
    "plt.show()"
   ]
  },
  {
   "cell_type": "code",
   "execution_count": 233,
   "metadata": {},
   "outputs": [
    {
     "data": {
      "image/png": "[encoded data removed]",
      "text/plain": [
       "<Figure size 432x288 with 1 Axes>"
      ]
     },
     "metadata": {},
     "output_type": "display_data"
    }
   ],
   "source": [
    "clf = KMeans(n_clusters=2)\n",
    "clf.fit(X)\n",
    "\n",
    "centroids = clf.cluster_centers_\n",
    "labels = clf.labels_\n",
    "\n",
    "colors = [\"g.\",\"r.\",\"c.\",\"y.\"]\n",
    "for i in range(len(X)):\n",
    "    plt.plot(X[i][0], X[i][1], colors[labels[i]], markersize = 15)\n",
    "plt.scatter(centroids[:, 0],centroids[:, 1], marker = \"x\", s=150, linewidths = 5, zorder = 10)\n",
    "plt.show()"
   ]
  },
  {
   "cell_type": "code",
   "execution_count": 234,
   "metadata": {},
   "outputs": [
    {
     "name": "stdout",
     "output_type": "stream",
     "text": [
      "   pclass  survived  sex      age  sibsp  parch  ticket      fare  cabin  \\\n",
      "0       1         1    0  29.0000      0      0     766  211.3375     84   \n",
      "1       1         1    1   0.9167      1      2     523  151.5500    120   \n",
      "2       1         0    0   2.0000      1      2     523  151.5500    120   \n",
      "3       1         0    1  30.0000      1      2     523  151.5500    120   \n",
      "4       1         0    0  25.0000      1      2     523  151.5500    120   \n",
      "\n",
      "   embarked  boat  home.dest  \n",
      "0         0     2        198  \n",
      "1         0     1        296  \n",
      "2         0     0        296  \n",
      "3         0     0        296  \n",
      "4         0     0        296  \n"
     ]
    },
    {
     "name": "stderr",
     "output_type": "stream",
     "text": [
      "C:\\Users\\HP\\Anaconda3\\lib\\site-packages\\ipykernel_launcher.py:4: FutureWarning: convert_objects is deprecated.  To re-infer data dtypes for object columns, use DataFrame.infer_objects()\n",
      "For all other conversions use the data-type specific converters pd.to_datetime, pd.to_timedelta and pd.to_numeric.\n",
      "  after removing the cwd from sys.path.\n"
     ]
    }
   ],
   "source": [
    "df_titanic = pd.read_excel('C:/Users/HP/Downloads/titanic.xls')\n",
    "#print(df_titanic.head())\n",
    "df_titanic.drop(['body','name'], 1, inplace=True)\n",
    "df_titanic.convert_objects(convert_numeric=True)\n",
    "df_titanic.fillna(0, inplace=True)\n",
    "#print(df_titanic.head())\n",
    "\n",
    "def handle_non_numerical_data(df_titanic):\n",
    "    columns = df_titanic.columns.values\n",
    "    for column in columns:\n",
    "        text_digit_vals = {}\n",
    "        def convert_to_int(val):\n",
    "            return text_digit_vals[val]\n",
    "\n",
    "        if df_titanic[column].dtype != np.int64 and df_titanic[column].dtype != np.float64:\n",
    "            column_contents = df_titanic[column].values.tolist()\n",
    "            unique_elements = set(column_contents)\n",
    "            x = 0\n",
    "            for unique in unique_elements:\n",
    "                if unique not in text_digit_vals:\n",
    "                    text_digit_vals[unique] = x\n",
    "                    x+=1\n",
    "\n",
    "            df_titanic[column] = list(map(convert_to_int, df_titanic[column]))\n",
    "\n",
    "    return df_titanic\n",
    "\n",
    "df_titanic = handle_non_numerical_data(df_titanic)\n",
    "print(df_titanic.head())"
   ]
  },
  {
   "cell_type": "code",
   "execution_count": 237,
   "metadata": {},
   "outputs": [
    {
     "name": "stdout",
     "output_type": "stream",
     "text": [
      "0.2322383498854087\n"
     ]
    }
   ],
   "source": [
    "# specify which Columns you want the model to train on\n",
    "X = np.array(df_titanic.drop(['survived', 'ticket', 'boat'], 1).astype(float)) \n",
    "X = preprocessing.scale(X)\n",
    "\n",
    "y = np.array(df_titanic['survived'])\n",
    "clf2=KMeans(n_clusters=2)\n",
    "clf2.fit(X)\n",
    "\n",
    "correct=0\n",
    "for i in range(len(X)):\n",
    "    predict = np.array(X[i].astype(float))\n",
    "    predict = predict.reshape(-1, len(predict))\n",
    "    prediction = clf2.predict(predict)\n",
    "    \n",
    "    if prediction==0:\n",
    "        correct+=1\n",
    "\n",
    "print(correct/len(X))            "
   ]
  },
  {
   "cell_type": "code",
   "execution_count": 239,
   "metadata": {},
   "outputs": [],
   "source": [
    "# Using our own K-means cluster Algorithm"
   ]
  },
  {
   "cell_type": "code",
   "execution_count": 301,
   "metadata": {},
   "outputs": [
    {
     "data": {
      "image/png": "[encoded data removed]",
      "text/plain": [
       "<Figure size 432x288 with 1 Axes>"
      ]
     },
     "metadata": {},
     "output_type": "display_data"
    }
   ],
   "source": [
    "X = np.array([[1, 2],\n",
    "              [1.5, 1.8],\n",
    "              [5, 8],\n",
    "              [8, 8],\n",
    "              [1, 0.6],\n",
    "              [9, 11],\n",
    "                     [1,3],\n",
    "                     [8,9],\n",
    "                     [0,3],\n",
    "                     [5,4],\n",
    "                     [6,4],])\n",
    "\n",
    "#plt.scatter(X[:, 0],X[:, 1], s=100, linewidths = 5, zorder = 10)\n",
    "#plt.show()\n",
    "\n",
    "class K_Means:\n",
    "    def __init__(self,k=2, tol=0.001,max_iter=300):\n",
    "        self.k = k\n",
    "        self.tol = tol\n",
    "        self.max_iter = max_iter\n",
    "    \n",
    "    def fit(self,data):\n",
    "        self.centroids = {}\n",
    "\n",
    "        for i in range(self.k):\n",
    "            self.centroids[i] = data[i]\n",
    "\n",
    "        for i in range(self.max_iter):\n",
    "            self.classifications = {}\n",
    "\n",
    "            for i in range(self.k):\n",
    "                self.classifications[i] = []\n",
    "\n",
    "            for featureset in data:\n",
    "                distances = [np.linalg.norm(featureset-self.centroids[centroid]) for centroid in self.centroids]\n",
    "                classification = distances.index(min(distances))\n",
    "                self.classifications[classification].append(featureset)\n",
    "            \n",
    "            prev_centroids = dict(self.centroids)\n",
    "\n",
    "            for classification in self.classifications:\n",
    "                #pass\n",
    "                self.centroids[classification] = np.average(self.classifications[classification],axis=0)\n",
    "                #comment to see the initially classified centroid\n",
    "            \n",
    "            optimized = True\n",
    "            for c in self.centroids:\n",
    "                original_centroid = prev_centroids[c]\n",
    "                current_centroid = self.centroids[c]\n",
    "                if np.sum((current_centroid-original_centroid)/original_centroid*100.0) > self.tol:\n",
    "                    #print(np.sum((current_centroid-original_centroid)/original_centroid*100.0))\n",
    "                    #uncomment to see the percent change of centroids through each iteration\n",
    "                    optimized = False\n",
    "                    \n",
    "            if optimized:\n",
    "                break       \n",
    "            \n",
    "    def predict(self,data):\n",
    "        distances = [np.linalg.norm(data-self.centroids[centroid]) for centroid in self.centroids]\n",
    "        classification = distances.index(min(distances))\n",
    "        return classification\n",
    "    \n",
    "#------------------------------------------------- Plotting -------------------------------------------------------    \n",
    "    \n",
    "clf_3 = K_Means(k=3)\n",
    "clf_3.fit(X)\n",
    "\n",
    "colors=['red','green','black','brown','purple']*2\n",
    "\n",
    "for centroid in clf_3.centroids:\n",
    "    plt.scatter(clf_3.centroids[centroid][0], clf_3.centroids[centroid][1],\n",
    "                marker=\"o\", c=\"k\", s=150, linewidths=5)\n",
    "\n",
    "for classification in clf_3.classifications:\n",
    "    color = colors[classification]\n",
    "    for featureset in clf_3.classifications[classification]:\n",
    "        plt.scatter(featureset[0], featureset[1], c=color , marker=\"x\", s=150, linewidths=5)\n",
    "        \n",
    "plt.show()    "
   ]
  },
  {
   "cell_type": "code",
   "execution_count": 265,
   "metadata": {},
   "outputs": [
    {
     "data": {
      "image/png": "[encoded data removed]",
      "text/plain": [
       "<Figure size 432x288 with 1 Axes>"
      ]
     },
     "metadata": {},
     "output_type": "display_data"
    }
   ],
   "source": [
    "unknowns = np.array([[1,3],\n",
    "                     [8,9],\n",
    "                     [0,3],\n",
    "                     [5,4],\n",
    "                     [6,4],])\n",
    "\n",
    "for unknown in unknowns:\n",
    "    classification = clf_3.predict(unknown)\n",
    "    plt.scatter(unknown[0], unknown[1], marker=\"*\", s=150, linewidths=5)\n",
    "\n",
    "\n",
    "plt.show()"
   ]
  }
 ],
 "metadata": {
  "kernelspec": {
   "display_name": "Python 3",
   "language": "python",
   "name": "python3"
  },
  "language_info": {
   "codemirror_mode": {
    "name": "ipython",
    "version": 3
   },
   "file_extension": ".py",
   "mimetype": "text/x-python",
   "name": "python",
   "nbconvert_exporter": "python",
   "pygments_lexer": "ipython3",
   "version": "3.7.0"
  }
 },
 "nbformat": 4,
 "nbformat_minor": 2
}
