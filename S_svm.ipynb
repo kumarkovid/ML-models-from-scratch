{
 "cells": [
  {
   "cell_type": "code",
   "execution_count": 109,
   "metadata": {},
   "outputs": [],
   "source": [
    "import pandas as pd\n",
    "import numpy as np\n",
    "from sklearn import cross_validation, preprocessing, neighbors, svm\n",
    "from matplotlib import style\n",
    "from collections import Counter\n",
    "from math import sqrt\n",
    "import matplotlib.pyplot as plt\n",
    "import random\n",
    "style.use('ggplot')"
   ]
  },
  {
   "cell_type": "code",
   "execution_count": 2,
   "metadata": {},
   "outputs": [
    {
     "name": "stdout",
     "output_type": "stream",
     "text": [
      "0.9642857142857143\n"
     ]
    }
   ],
   "source": [
    "breast_cancer = pd.read_excel('C:/Users/HP/breast-cancer-wisconsin.xlsx')\n",
    "breast_cancer.replace('?', -99999, inplace=True)\n",
    "breast_cancer.head()\n",
    "\n",
    "\n",
    "# ID doesnt contribute to cancer in any way\n",
    "# using ID decreases accuracy by 30 %\n",
    "breast_cancer.drop('Id',1, inplace=True)\n",
    "\n",
    "X = np.array(breast_cancer.drop('Class',1))\n",
    "y = np.array(breast_cancer['Class'])\n",
    "\n",
    "X_train, X_test, y_train, y_test = cross_validation.train_test_split(X, y, test_size=0.2)\n",
    "\n",
    "clf=svm.SVC()\n",
    "clf.fit(X_train, y_train )\n",
    "\n",
    "accuracy = clf.score(X_test, y_test)\n",
    "print(accuracy)"
   ]
  },
  {
   "cell_type": "code",
   "execution_count": 3,
   "metadata": {},
   "outputs": [
    {
     "data": {
      "text/plain": [
       "array([4, 2, 4], dtype=int64)"
      ]
     },
     "execution_count": 3,
     "metadata": {},
     "output_type": "execute_result"
    }
   ],
   "source": [
    "example_test=np.array([[10,1,1,1,5,1,6,1,1], [1,1,1,1,5,1,0,1,1], [10,1,5,1,5,1,6,10,1]])\n",
    "example_test = example_test.reshape(3,-1)\n",
    "clf.predict(example_test)"
   ]
  },
  {
   "cell_type": "code",
   "execution_count": 103,
   "metadata": {},
   "outputs": [],
   "source": [
    "# Manual SVM classifier\n",
    "class Support_Vector_Machine:\n",
    "    def __init__(self, visualization=True):\n",
    "        self.visualization= visualization\n",
    "        self.colors= {1:'r',-1:'b'}\n",
    "        if self.visualization:\n",
    "            self.fig=plt.figure()\n",
    "            self.ax= self.fig.add_subplot(1,1,1)\n",
    "            \n",
    "    def fit(self, data):\n",
    "        self.data = data\n",
    "        opt_dict = {}\n",
    "        \n",
    "        transforms = [[1,1],[-1,1],[-1,-1],[1,-1]]\n",
    "        all_data=[]\n",
    "        for yi in self.data:\n",
    "            for featureset in self.data[yi]:\n",
    "                for feature in featureset:\n",
    "                    all_data.append(feature)\n",
    "        self.max_features_value = max(all_data)            \n",
    "        self.min_features_value = min(all_data)\n",
    "        all_data=None\n",
    "        \n",
    "        step_sizes=[self.max_features_value*0.1\n",
    "                   ,self.max_features_value*0.01\n",
    "                   #,self.max_features_value*0.001\n",
    "                   ]\n",
    "        b_range_multiple = 5\n",
    "        b_multiple = 5\n",
    "        latest_optimum = self.max_features_value*10\n",
    "        \n",
    "        for step in step_sizes:\n",
    "            w = np.array([latest_optimum, latest_optimum])\n",
    "            optimized=False\n",
    "            while not optimized:\n",
    "                for b in np.arange(-1*(self.max_features_value*b_range_multiple), \n",
    "                                   self.max_features_value*b_range_multiple, step*b_multiple):\n",
    "                \n",
    "                    for transformation in transforms:\n",
    "                        w_t = w*transformation\n",
    "                        found_option=True\n",
    "\n",
    "                        for i in self.data:\n",
    "                            for xi in self.data[i]:\n",
    "                                yi=i\n",
    "                                if not yi*(np.dot(w_t,xi)+b) >= 1:\n",
    "                                    found_option=False\n",
    "                                    break\n",
    "                        if found_option:\n",
    "                            opt_dict[np.linalg.norm(w_t)] = [w_t,b]\n",
    "                        \n",
    "                if w[0]<0:\n",
    "                    optimized=True\n",
    "                    print('optimized a step:')                    \n",
    "                else:\n",
    "                    w=w-step\n",
    "            norms=sorted([n for n in opt_dict])\n",
    "            opt_choice = opt_dict[norms[0]]\n",
    "\n",
    "            self.w = opt_choice[0]\n",
    "            self.b = opt_choice[1]\n",
    "        for i in self.data:\n",
    "            for xi in self.data[i]:\n",
    "                yi=i\n",
    "                #print(xi,\":\",yi*(np.dot(self.w,xi)+self.b))\n",
    "            \n",
    "            \n",
    "            \n",
    "    def predict(self,features):\n",
    "        classification = np.sign(np.dot(np.array(features),self.w)+self.b)\n",
    "        if classification !=0 and self.visualization:\n",
    "            self.ax.scatter(features[0],features[1],s=200,marker='*', c=self.colors[classification])\n",
    "        return classification    \n",
    "    \n",
    "    def visualize(self):\n",
    "        [[self.ax.scatter(x[0],x[1],s=100,color=self.colors[i]) for x in data_dict[i]] for i in data_dict]\n",
    "        \n",
    "        def hyperplane(x,w,b,v):\n",
    "            return (-w[0]*x-b+v) / w[1]\n",
    "        \n",
    "        datarange = (self.min_features_value*0.9, self.max_features_value*1.1)\n",
    "        hyp_x_min = datarange[0]\n",
    "        hyp_x_max = datarange[1]\n",
    "        #positive hyperplane (w*x)+b = 1\n",
    "        psv1 = hyperplane(hyp_x_min, self.w, self.b, 1) \n",
    "        psv2 = hyperplane(hyp_x_max, self.w, self.b, 1)\n",
    "        self.ax.plot([hyp_x_min,hyp_x_max],[psv1,psv2], 'k')\n",
    "        #PSV are Y axis points\n",
    "        #hyp_x are X axis points\n",
    "        \n",
    "        #positive hyperplane (w*x)+b = 1\n",
    "        nsv1 = hyperplane(hyp_x_min, self.w, self.b, -1) \n",
    "        nsv2 = hyperplane(hyp_x_max, self.w, self.b, -1)\n",
    "        self.ax.plot([hyp_x_min,hyp_x_max],[nsv1,nsv2],'k')\n",
    "\n",
    "        #Decision boundary (w*x)+b = 0\n",
    "        db1 = hyperplane(hyp_x_min, self.w, self.b, 0) \n",
    "        db2 = hyperplane(hyp_x_max, self.w, self.b, 0)\n",
    "        self.ax.plot([hyp_x_min,hyp_x_max],[db1,db2], 'y--')"
   ]
  },
  {
   "cell_type": "code",
   "execution_count": 108,
   "metadata": {},
   "outputs": [
    {
     "name": "stdout",
     "output_type": "stream",
     "text": [
      "optimized a step:\n",
      "optimized a step:\n"
     ]
    },
    {
     "data": {
      "image/png": "[encoded data removed]",
      "text/plain": [
       "<Figure size 432x288 with 1 Axes>"
      ]
     },
     "metadata": {
      "needs_background": "light"
     },
     "output_type": "display_data"
    }
   ],
   "source": [
    "data_dict={-1:([[1,7],[2,8],[3,8]]),\n",
    "            1:([[5,1],[6,-1],[7,3]])}\n",
    "\n",
    "svm = Support_Vector_Machine()\n",
    "svm.fit(data=data_dict)\n",
    "\n",
    "predict_these = [[0,10],[3,4],[8,6], [6,-7],[-4,9]]\n",
    "\n",
    "for p in predict_these:\n",
    "    svm.predict(p)\n",
    "    svm.visualize()\n",
    "    \n",
    "    \n",
    "svm.visualize()"
   ]
  }
 ],
 "metadata": {
  "kernelspec": {
   "display_name": "Python 3",
   "language": "python",
   "name": "python3"
  },
  "language_info": {
   "codemirror_mode": {
    "name": "ipython",
    "version": 3
   },
   "file_extension": ".py",
   "mimetype": "text/x-python",
   "name": "python",
   "nbconvert_exporter": "python",
   "pygments_lexer": "ipython3",
   "version": "3.7.0"
  }
 },
 "nbformat": 4,
 "nbformat_minor": 2
}
